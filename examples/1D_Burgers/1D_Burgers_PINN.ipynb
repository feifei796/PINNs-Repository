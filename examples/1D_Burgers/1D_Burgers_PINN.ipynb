{
 "cells": [
  {
   "cell_type": "markdown",
   "id": "f647a5b7-931c-4fb9-8565-2f432766f908",
   "metadata": {},
   "source": [
    "# 1D Burgers' Equation with PINNs\n",
    "\n",
    "This notebook demonstrates how to solve the 1D Burgers' equation using Physics-Informed Neural Networks (PINNs).\n",
    "\n",
    "## Problem Description\n",
    "Burgers' equation describes wave propogation with **nonlinear advection and diffusion**. The 1D Burgers' equation is given by:\n",
    "\\begin{equation}\n",
    "\\frac{\\partial u}{\\partial t} + u \\frac{\\partial u}{\\partial x} = \\nu \\frac{\\partial^2 u}{\\partial x^2},\n",
    "\\end{equation}\n",
    "where:\n",
    "- $u(x, t)$ is the velocity field,\n",
    "- $ \\nu $ is the viscosity coefficient."
   ]
  },
  {
   "cell_type": "markdown",
   "id": "a688f47f-e347-4e1d-9f6c-ab53399fe37a",
   "metadata": {},
   "source": [
    "For sinusoidal initial condition:"
   ]
  },
  {
   "cell_type": "markdown",
   "id": "b144aebc-73ad-4ac6-9984-bc0d6f7e6018",
   "metadata": {},
   "source": [
    "\\begin{equation}\n",
    "u(x,0) = \\sin(\\pi x) , \n",
    "\\end{equation}"
   ]
  },
  {
   "cell_type": "markdown",
   "id": "a657dace-0a94-4d16-84c5-c7bd82ac0196",
   "metadata": {},
   "source": [
    "and small viscosity $\\mu$, the analytical solution can be approximated as:"
   ]
  },
  {
   "cell_type": "markdown",
   "id": "e66b73f9-4f5d-4876-9589-c66c89fc63ca",
   "metadata": {},
   "source": [
    "\\begin{equation}\n",
    "u(x,t) = \\sin(\\pi x) \\exp(\\mu \\pi^2 t). \n",
    "\\end{equation}"
   ]
  },
  {
   "cell_type": "markdown",
   "id": "cca459d9-57ad-4b64-b06c-09f12d16dc42",
   "metadata": {},
   "source": [
    "This solution represents a decaysing sinusoidal wave, where the amplitude decreases exponentially with time due to \n",
    "viscosity. In this notebook, we will generate data from the analytical solution and train PINNs. "
   ]
  },
  {
   "cell_type": "markdown",
   "id": "5e56076a-181f-4a97-83c1-f37b0226d627",
   "metadata": {},
   "source": [
    "## Import Libraries"
   ]
  },
  {
   "cell_type": "code",
   "execution_count": 5,
   "id": "7a2b0d17-188b-4735-ae16-1fd6a9dfbcde",
   "metadata": {},
   "outputs": [],
   "source": [
    "import torch\n",
    "import torch.nn as nn\n",
    "import numpy as np\n",
    "import matplotlib.pyplot as plt"
   ]
  },
  {
   "cell_type": "markdown",
   "id": "178dbd24-157f-4360-b31d-4dd296d573eb",
   "metadata": {},
   "source": [
    "## Define the Neural Network"
   ]
  },
  {
   "cell_type": "code",
   "execution_count": 6,
   "id": "3399a918-b8fc-4d98-bd9d-9615897dd166",
   "metadata": {},
   "outputs": [],
   "source": [
    "class PINN(nn.Module):\n",
    "    def __init__(self):\n",
    "        super(PINN, self).__init__()\n",
    "        self.fc1 = nn.Linear(2,50)   # Input: (x,t)\n",
    "        self.fc2 = nn.Linear(50,50)\n",
    "        self.fc3 = nn.Linear(50,50)\n",
    "        self.fc4 = nn.Linear(50,1)   # Output: u(x,t)\n",
    "\n",
    "    def forward(self, x, t):\n",
    "        inputs = torch.cat([x,t], dim = 1)\n",
    "        out = torch.tanh(self.fc1(inputs))\n",
    "        out = torch.tanh(self.fc2(out))\n",
    "        out = torch.tanh(self.fc3(out))\n",
    "        out = self.fc4(out)\n",
    "        return out"
   ]
  },
  {
   "cell_type": "markdown",
   "id": "2747571a-421e-463c-9284-f88d9196cd47",
   "metadata": {},
   "source": [
    "## Define the Loss Function "
   ]
  },
  {
   "cell_type": "code",
   "execution_count": 7,
   "id": "6026c836-0496-442b-be54-6e09a69bac01",
   "metadata": {},
   "outputs": [],
   "source": [
    "def pinn_loss(model, x, t, u_true, nu=0.01):\n",
    "    u_pred = model(x, t)\n",
    "    du_dx = torch.autograd.grad(u_pred, x, grad_outputs=torch.ones_like(u_pred), create_graph=True)[0]\n",
    "    du_dt = torch.autograd.grad(u_pred, t, grad_outputs=torch.ones_like(u_pred), create_graph=True)[0]\n",
    "    d2u_dx2 = torch.autograd.grad(du_dx, x, grad_outputs=torch.ones_like(du_dx), create_graph=True)[0]\n",
    "    residual = du_dt + u_pred * du_dx - nu * d2u_dx2  # Burgers' equation residual\n",
    "    data_loss = torch.mean((u_pred - u_true)**2)  # Data loss\n",
    "    physics_loss = torch.mean(residual**2)  # Physics loss\n",
    "    return physics_loss + data_loss "
   ]
  },
  {
   "cell_type": "markdown",
   "id": "c0e3f898-5565-4226-9f8a-7b8618ae3b8f",
   "metadata": {},
   "source": [
    "## Generate Synthetic Data"
   ]
  },
  {
   "cell_type": "code",
   "execution_count": 8,
   "id": "9a8e83e9-8d5a-4771-b7e4-4e36d3bf620d",
   "metadata": {},
   "outputs": [],
   "source": [
    "def generate_data(nu=0.01, nx=100, nt=100, L=2.0, T=1.0):\n",
    "    x = np.linspace(0, L, nx)\n",
    "    t = np.linspace(0, T, nt)\n",
    "    X, T = np.meshgrid(x, t)\n",
    "    X = X.reshape(-1, 1)\n",
    "    T = T.reshape(-1, 1)\n",
    "    U = np.sin(np.pi * X) * np.exp(-nu * np.pi**2 * T)  # Analytical solution for Burgers' equation\n",
    "    return X, T, U, nx, nt"
   ]
  },
  {
   "cell_type": "markdown",
   "id": "43d054fd-99a2-43dd-b385-7fe3c614d499",
   "metadata": {},
   "source": [
    "## Train the model"
   ]
  },
  {
   "cell_type": "code",
   "execution_count": 14,
   "id": "c6af7136-7d0b-4cd9-ad27-02c62798645d",
   "metadata": {},
   "outputs": [],
   "source": [
    "def train_model():\n",
    "    X, T, U, _, _ = generate_data()\n",
    "    X = torch.tensor(X, dtype=torch.float32, requires_grad=True)\n",
    "    T = torch.tensor(T, dtype=torch.float32, requires_grad=True)\n",
    "    U = torch.tensor(U, dtype=torch.float32)\n",
    "\n",
    "    model = PINN()\n",
    "    optimizer = torch.optim.Adam(model.parameters(), lr=1e-4)\n",
    "\n",
    "    for it in range(10000):\n",
    "        optimizer.zero_grad()\n",
    "        loss = pinn_loss(model, X, T, U)\n",
    "        loss.backward()\n",
    "        optimizer.step()\n",
    "\n",
    "        if it % 1000 == 0:\n",
    "            print(f\"Iter {it:5d}, Loss: {loss.item():.4e}\")\n",
    "\n",
    "    return model"
   ]
  },
  {
   "cell_type": "code",
   "execution_count": 15,
   "id": "9bce84ec-4f96-477f-b399-db129305ca98",
   "metadata": {},
   "outputs": [
    {
     "name": "stdout",
     "output_type": "stream",
     "text": [
      "Iter     0, Loss: 4.2121e-01\n",
      "Iter  1000, Loss: 1.1818e-01\n",
      "Iter  2000, Loss: 7.7568e-02\n",
      "Iter  3000, Loss: 6.0649e-02\n",
      "Iter  4000, Loss: 5.2965e-02\n",
      "Iter  5000, Loss: 4.8484e-02\n",
      "Iter  6000, Loss: 4.7579e-02\n",
      "Iter  7000, Loss: 4.7217e-02\n",
      "Iter  8000, Loss: 4.7026e-02\n",
      "Iter  9000, Loss: 4.6925e-02\n"
     ]
    }
   ],
   "source": [
    "model = train_model()"
   ]
  },
  {
   "cell_type": "markdown",
   "id": "dca897d3-e1e3-4826-a930-b8179170c8f0",
   "metadata": {},
   "source": [
    "## Visualize the Results"
   ]
  },
  {
   "cell_type": "code",
   "execution_count": 16,
   "id": "6329f6e1-ba3e-4ed9-883b-e3ff3df26aeb",
   "metadata": {},
   "outputs": [
    {
     "data": {
      "image/png": "[encoded data removed]",
      "text/plain": [
       "<Figure size 1000x600 with 2 Axes>"
      ]
     },
     "metadata": {},
     "output_type": "display_data"
    }
   ],
   "source": [
    "# Generate data\n",
    "X, T, U, nx, nt = generate_data()\n",
    "\n",
    "# Convert data to PyTorch tensors\n",
    "X_tensor = torch.tensor(X, dtype=torch.float32, requires_grad=True)\n",
    "T_tensor = torch.tensor(T, dtype=torch.float32, requires_grad=True)\n",
    "\n",
    "# Predict u(x, t) using the trained model\n",
    "with torch.no_grad():\n",
    "    u_pred = model(X_tensor, T_tensor).numpy()\n",
    "\n",
    "# Reshape for plotting\n",
    "X_plot = X.reshape(nx, nt)\n",
    "T_plot = T.reshape(nx, nt)\n",
    "U_plot = u_pred.reshape(nx, nt)\n",
    "\n",
    "# Plot the results\n",
    "plt.figure(figsize=(10, 6))\n",
    "plt.contourf(X_plot, T_plot, U_plot, levels=50, cmap=\"viridis\")\n",
    "plt.colorbar(label=\"u(x, t)\")\n",
    "plt.xlabel(\"x\")\n",
    "plt.ylabel(\"t\")\n",
    "plt.title(\"Predicted Solution to 1D Burgers' Equation\")\n",
    "plt.show()"
   ]
  },
  {
   "cell_type": "code",
   "execution_count": null,
   "id": "a879cd64-5d5f-423b-9fa4-7ea5b58bc605",
   "metadata": {},
   "outputs": [],
   "source": []
  }
 ],
 "metadata": {
  "kernelspec": {
   "display_name": "Python 3 (ipykernel)",
   "language": "python",
   "name": "python3"
  },
  "language_info": {
   "codemirror_mode": {
    "name": "ipython",
    "version": 3
   },
   "file_extension": ".py",
   "mimetype": "text/x-python",
   "name": "python",
   "nbconvert_exporter": "python",
   "pygments_lexer": "ipython3",
   "version": "3.12.4"
  }
 },
 "nbformat": 4,
 "nbformat_minor": 5
}
